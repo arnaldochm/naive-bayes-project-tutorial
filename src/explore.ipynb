{
    "cells": [
        {
            "cell_type": "markdown",
            "metadata": {},
            "source": [
                "# Explore here"
            ]
        },
        {
            "cell_type": "code",
            "execution_count": 44,
            "metadata": {},
            "outputs": [],
            "source": [
                "import pandas as pd\n",
                "import numpy as np\n",
                "import matplotlib.pyplot as plt\n",
                "import seaborn as sns\n",
                "#------------ PREPROCESING --------------\n",
                "from sklearn.model_selection import train_test_split\n",
                "from sklearn.feature_extraction.text import CountVectorizer\n",
                "# ----------- MACHINE LEARNING ----------\n",
                "from sklearn.naive_bayes import GaussianNB\n",
                "from sklearn.naive_bayes import BernoulliNB\n",
                "from sklearn.naive_bayes import MultinomialNB\n",
                "# ----------- METRICS -------------------\n",
                "from sklearn.metrics import accuracy_score\n",
                "#------------ OPTIMIZATION --------------\n",
                "from sklearn.model_selection import GridSearchCV\n"
            ]
        },
        {
            "cell_type": "code",
            "execution_count": 11,
            "metadata": {},
            "outputs": [
                {
                    "name": "stdout",
                    "output_type": "stream",
                    "text": [
                        "<class 'pandas.core.frame.DataFrame'>\n",
                        "RangeIndex: 891 entries, 0 to 890\n",
                        "Data columns (total 3 columns):\n",
                        " #   Column        Non-Null Count  Dtype \n",
                        "---  ------        --------------  ----- \n",
                        " 0   package_name  891 non-null    object\n",
                        " 1   review        891 non-null    object\n",
                        " 2   polarity      891 non-null    int64 \n",
                        "dtypes: int64(1), object(2)\n",
                        "memory usage: 21.0+ KB\n"
                    ]
                }
            ],
            "source": [
                "df_raw =  pd.read_csv('https://raw.githubusercontent.com/4GeeksAcademy/naive-bayes-project-tutorial/main/playstore_reviews.csv')\n",
                "\n",
                "df_raw.info()"
            ]
        },
        {
            "cell_type": "code",
            "execution_count": 12,
            "metadata": {},
            "outputs": [
                {
                    "data": {
                        "text/html": [
                            "<div>\n",
                            "<style scoped>\n",
                            "    .dataframe tbody tr th:only-of-type {\n",
                            "        vertical-align: middle;\n",
                            "    }\n",
                            "\n",
                            "    .dataframe tbody tr th {\n",
                            "        vertical-align: top;\n",
                            "    }\n",
                            "\n",
                            "    .dataframe thead th {\n",
                            "        text-align: right;\n",
                            "    }\n",
                            "</style>\n",
                            "<table border=\"1\" class=\"dataframe\">\n",
                            "  <thead>\n",
                            "    <tr style=\"text-align: right;\">\n",
                            "      <th></th>\n",
                            "      <th>package_name</th>\n",
                            "      <th>review</th>\n",
                            "      <th>polarity</th>\n",
                            "    </tr>\n",
                            "  </thead>\n",
                            "  <tbody>\n",
                            "    <tr>\n",
                            "      <th>673</th>\n",
                            "      <td>com.hamrokeyboard</td>\n",
                            "      <td>excellent ŕ¤§ŕľŕ¤°ŕľ ŕ¤¸ŕ¤žŕ¤˛ ŕ¤şŕ¤ŕ¤ż ŕ¤...</td>\n",
                            "      <td>1</td>\n",
                            "    </tr>\n",
                            "    <tr>\n",
                            "      <th>157</th>\n",
                            "      <td>com.king.candycrushsaga</td>\n",
                            "      <td>for this new update....đ  didn't showing fa...</td>\n",
                            "      <td>0</td>\n",
                            "    </tr>\n",
                            "    <tr>\n",
                            "      <th>476</th>\n",
                            "      <td>com.Slack</td>\n",
                            "      <td>glitch: not working on galaxy note 5 this is ...</td>\n",
                            "      <td>0</td>\n",
                            "    </tr>\n",
                            "    <tr>\n",
                            "      <th>844</th>\n",
                            "      <td>com.hamropatro</td>\n",
                            "      <td>its very helpful</td>\n",
                            "      <td>1</td>\n",
                            "    </tr>\n",
                            "    <tr>\n",
                            "      <th>236</th>\n",
                            "      <td>com.supercell.clashofclans</td>\n",
                            "      <td>new update sux! no more dead bases, no more f...</td>\n",
                            "      <td>0</td>\n",
                            "    </tr>\n",
                            "    <tr>\n",
                            "      <th>79</th>\n",
                            "      <td>com.linkedin.android</td>\n",
                            "      <td>the new app looks great and is very easy to ...</td>\n",
                            "      <td>0</td>\n",
                            "    </tr>\n",
                            "    <tr>\n",
                            "      <th>325</th>\n",
                            "      <td>com.viber.voip</td>\n",
                            "      <td>on sgh-i727 android 4.1.2 the new platform sh...</td>\n",
                            "      <td>0</td>\n",
                            "    </tr>\n",
                            "    <tr>\n",
                            "      <th>332</th>\n",
                            "      <td>com.viber.voip</td>\n",
                            "      <td>cant use not being able to call any contact p...</td>\n",
                            "      <td>0</td>\n",
                            "    </tr>\n",
                            "    <tr>\n",
                            "      <th>416</th>\n",
                            "      <td>com.facebook.orca</td>\n",
                            "      <td>not good i had for a while but is not working...</td>\n",
                            "      <td>0</td>\n",
                            "    </tr>\n",
                            "    <tr>\n",
                            "      <th>374</th>\n",
                            "      <td>com.google.android.talk</td>\n",
                            "      <td>man i hate google and android went into my me...</td>\n",
                            "      <td>0</td>\n",
                            "    </tr>\n",
                            "  </tbody>\n",
                            "</table>\n",
                            "</div>"
                        ],
                        "text/plain": [
                            "                   package_name  \\\n",
                            "673           com.hamrokeyboard   \n",
                            "157     com.king.candycrushsaga   \n",
                            "476                   com.Slack   \n",
                            "844              com.hamropatro   \n",
                            "236  com.supercell.clashofclans   \n",
                            "79         com.linkedin.android   \n",
                            "325              com.viber.voip   \n",
                            "332              com.viber.voip   \n",
                            "416           com.facebook.orca   \n",
                            "374     com.google.android.talk   \n",
                            "\n",
                            "                                                review  polarity  \n",
                            "673   excellent ŕ¤§ŕľŕ¤°ŕľ ŕ¤¸ŕ¤žŕ¤˛ ŕ¤şŕ¤ŕ¤ż ŕ¤...         1  \n",
                            "157   for this new update....đ  didn't showing fa...         0  \n",
                            "476   glitch: not working on galaxy note 5 this is ...         0  \n",
                            "844                                   its very helpful         1  \n",
                            "236   new update sux! no more dead bases, no more f...         0  \n",
                            "79     the new app looks great and is very easy to ...         0  \n",
                            "325   on sgh-i727 android 4.1.2 the new platform sh...         0  \n",
                            "332   cant use not being able to call any contact p...         0  \n",
                            "416   not good i had for a while but is not working...         0  \n",
                            "374   man i hate google and android went into my me...         0  "
                        ]
                    },
                    "execution_count": 12,
                    "metadata": {},
                    "output_type": "execute_result"
                }
            ],
            "source": [
                "df_raw.sample(10)"
            ]
        },
        {
            "cell_type": "code",
            "execution_count": 13,
            "metadata": {},
            "outputs": [
                {
                    "data": {
                        "text/plain": [
                            "polarity\n",
                            "0    584\n",
                            "1    307\n",
                            "Name: count, dtype: int64"
                        ]
                    },
                    "execution_count": 13,
                    "metadata": {},
                    "output_type": "execute_result"
                }
            ],
            "source": [
                "df_raw['polarity'].value_counts() #El Dataset es desbalanceado. Lo cual debe tomarse en cuenta al crear los datasets de training y testing. Y al aplicar el modelo."
            ]
        },
        {
            "cell_type": "code",
            "execution_count": 14,
            "metadata": {},
            "outputs": [],
            "source": [
                "df_processed = df_raw.copy()"
            ]
        },
        {
            "cell_type": "code",
            "execution_count": 15,
            "metadata": {},
            "outputs": [
                {
                    "name": "stdout",
                    "output_type": "stream",
                    "text": [
                        "<class 'pandas.core.frame.DataFrame'>\n",
                        "RangeIndex: 891 entries, 0 to 890\n",
                        "Data columns (total 2 columns):\n",
                        " #   Column    Non-Null Count  Dtype \n",
                        "---  ------    --------------  ----- \n",
                        " 0   review    891 non-null    object\n",
                        " 1   polarity  891 non-null    int64 \n",
                        "dtypes: int64(1), object(1)\n",
                        "memory usage: 14.0+ KB\n"
                    ]
                }
            ],
            "source": [
                "#PREPROCESING\n",
                "\n",
                "#Se elimina la columna package_name, ya que es innecesaria.\n",
                "df_processed = df_processed.drop(['package_name'], axis=1)\n",
                "df_processed[\"review\"] = df_processed[\"review\"].str.strip().str.lower()\n",
                "\n",
                "df_processed.info()"
            ]
        },
        {
            "cell_type": "code",
            "execution_count": 17,
            "metadata": {},
            "outputs": [
                {
                    "data": {
                        "text/html": [
                            "<div>\n",
                            "<style scoped>\n",
                            "    .dataframe tbody tr th:only-of-type {\n",
                            "        vertical-align: middle;\n",
                            "    }\n",
                            "\n",
                            "    .dataframe tbody tr th {\n",
                            "        vertical-align: top;\n",
                            "    }\n",
                            "\n",
                            "    .dataframe thead th {\n",
                            "        text-align: right;\n",
                            "    }\n",
                            "</style>\n",
                            "<table border=\"1\" class=\"dataframe\">\n",
                            "  <thead>\n",
                            "    <tr style=\"text-align: right;\">\n",
                            "      <th></th>\n",
                            "      <th>review</th>\n",
                            "      <th>polarity</th>\n",
                            "    </tr>\n",
                            "  </thead>\n",
                            "  <tbody>\n",
                            "    <tr>\n",
                            "      <th>532</th>\n",
                            "      <td>cool app except the notifications freeze, so i...</td>\n",
                            "      <td>0</td>\n",
                            "    </tr>\n",
                            "    <tr>\n",
                            "      <th>635</th>\n",
                            "      <td>awesome app it is good and very useful app it ...</td>\n",
                            "      <td>1</td>\n",
                            "    </tr>\n",
                            "    <tr>\n",
                            "      <th>248</th>\n",
                            "      <td>image search on verizon ellipsis 10 tablet doe...</td>\n",
                            "      <td>0</td>\n",
                            "    </tr>\n",
                            "    <tr>\n",
                            "      <th>610</th>\n",
                            "      <td>good but ui ease of use still declining i've u...</td>\n",
                            "      <td>1</td>\n",
                            "    </tr>\n",
                            "    <tr>\n",
                            "      <th>569</th>\n",
                            "      <td>works great! i wish it supported expandable / ...</td>\n",
                            "      <td>1</td>\n",
                            "    </tr>\n",
                            "    <tr>\n",
                            "      <th>83</th>\n",
                            "      <td>issues setting up. works fine now had issues w...</td>\n",
                            "      <td>0</td>\n",
                            "    </tr>\n",
                            "    <tr>\n",
                            "      <th>457</th>\n",
                            "      <td>wtf it worked for the last 3yrs. then all of a...</td>\n",
                            "      <td>0</td>\n",
                            "    </tr>\n",
                            "    <tr>\n",
                            "      <th>595</th>\n",
                            "      <td>neat idea, but let-down by no linux support. a...</td>\n",
                            "      <td>0</td>\n",
                            "    </tr>\n",
                            "    <tr>\n",
                            "      <th>201</th>\n",
                            "      <td>help me!!!!!!! my ipad had a software so i los...</td>\n",
                            "      <td>0</td>\n",
                            "    </tr>\n",
                            "    <tr>\n",
                            "      <th>220</th>\n",
                            "      <td>i don't like the new shield system. your base ...</td>\n",
                            "      <td>0</td>\n",
                            "    </tr>\n",
                            "  </tbody>\n",
                            "</table>\n",
                            "</div>"
                        ],
                        "text/plain": [
                            "                                                review  polarity\n",
                            "532  cool app except the notifications freeze, so i...         0\n",
                            "635  awesome app it is good and very useful app it ...         1\n",
                            "248  image search on verizon ellipsis 10 tablet doe...         0\n",
                            "610  good but ui ease of use still declining i've u...         1\n",
                            "569  works great! i wish it supported expandable / ...         1\n",
                            "83   issues setting up. works fine now had issues w...         0\n",
                            "457  wtf it worked for the last 3yrs. then all of a...         0\n",
                            "595  neat idea, but let-down by no linux support. a...         0\n",
                            "201  help me!!!!!!! my ipad had a software so i los...         0\n",
                            "220  i don't like the new shield system. your base ...         0"
                        ]
                    },
                    "execution_count": 17,
                    "metadata": {},
                    "output_type": "execute_result"
                }
            ],
            "source": [
                "df_processed.sample(10)"
            ]
        },
        {
            "cell_type": "code",
            "execution_count": 19,
            "metadata": {},
            "outputs": [
                {
                    "data": {
                        "text/plain": [
                            "225    1 star new update i am a busy man and don't al...\n",
                            "161    awesomness this game is awesome but tricky wit...\n",
                            "734    too bad but improving the earlier version was ...\n",
                            "239    not responding occasionally sometimes chrome j...\n",
                            "604    best free note ever !!! sometimes evernote pop...\n",
                            "Name: review, dtype: object"
                        ]
                    },
                    "execution_count": 19,
                    "metadata": {},
                    "output_type": "execute_result"
                }
            ],
            "source": [
                "#Divide Data Set into Train Test Datasets\n",
                "X = df_processed['review']\n",
                "y = df_processed['polarity']\n",
                "\n",
                "X_train, X_test, y_train, y_test = train_test_split(X, y, stratify=y, random_state=1530) #stratify: para definir los datasets de forma proporcional acorde a y.\n",
                "\n",
                "X_train.sample(5)"
            ]
        },
        {
            "cell_type": "code",
            "execution_count": 21,
            "metadata": {},
            "outputs": [],
            "source": [
                "vec_model = CountVectorizer(stop_words = \"english\")\n",
                "X_train = vec_model.fit_transform(X_train).toarray()\n",
                "X_test = vec_model.transform(X_test).toarray()"
            ]
        },
        {
            "cell_type": "code",
            "execution_count": 25,
            "metadata": {},
            "outputs": [
                {
                    "data": {
                        "text/plain": [
                            "array([[0, 0, 0, ..., 0, 0, 0],\n",
                            "       [0, 0, 0, ..., 0, 0, 0],\n",
                            "       [0, 0, 0, ..., 0, 0, 0],\n",
                            "       ...,\n",
                            "       [0, 0, 0, ..., 0, 0, 0],\n",
                            "       [0, 0, 0, ..., 0, 0, 0],\n",
                            "       [0, 0, 0, ..., 0, 0, 0]])"
                        ]
                    },
                    "execution_count": 25,
                    "metadata": {},
                    "output_type": "execute_result"
                }
            ],
            "source": [
                "X_train"
            ]
        },
        {
            "cell_type": "code",
            "execution_count": 33,
            "metadata": {},
            "outputs": [
                {
                    "data": {
                        "text/html": [
                            "<style>#sk-container-id-2 {color: black;}#sk-container-id-2 pre{padding: 0;}#sk-container-id-2 div.sk-toggleable {background-color: white;}#sk-container-id-2 label.sk-toggleable__label {cursor: pointer;display: block;width: 100%;margin-bottom: 0;padding: 0.3em;box-sizing: border-box;text-align: center;}#sk-container-id-2 label.sk-toggleable__label-arrow:before {content: \"▸\";float: left;margin-right: 0.25em;color: #696969;}#sk-container-id-2 label.sk-toggleable__label-arrow:hover:before {color: black;}#sk-container-id-2 div.sk-estimator:hover label.sk-toggleable__label-arrow:before {color: black;}#sk-container-id-2 div.sk-toggleable__content {max-height: 0;max-width: 0;overflow: hidden;text-align: left;background-color: #f0f8ff;}#sk-container-id-2 div.sk-toggleable__content pre {margin: 0.2em;color: black;border-radius: 0.25em;background-color: #f0f8ff;}#sk-container-id-2 input.sk-toggleable__control:checked~div.sk-toggleable__content {max-height: 200px;max-width: 100%;overflow: auto;}#sk-container-id-2 input.sk-toggleable__control:checked~label.sk-toggleable__label-arrow:before {content: \"▾\";}#sk-container-id-2 div.sk-estimator input.sk-toggleable__control:checked~label.sk-toggleable__label {background-color: #d4ebff;}#sk-container-id-2 div.sk-label input.sk-toggleable__control:checked~label.sk-toggleable__label {background-color: #d4ebff;}#sk-container-id-2 input.sk-hidden--visually {border: 0;clip: rect(1px 1px 1px 1px);clip: rect(1px, 1px, 1px, 1px);height: 1px;margin: -1px;overflow: hidden;padding: 0;position: absolute;width: 1px;}#sk-container-id-2 div.sk-estimator {font-family: monospace;background-color: #f0f8ff;border: 1px dotted black;border-radius: 0.25em;box-sizing: border-box;margin-bottom: 0.5em;}#sk-container-id-2 div.sk-estimator:hover {background-color: #d4ebff;}#sk-container-id-2 div.sk-parallel-item::after {content: \"\";width: 100%;border-bottom: 1px solid gray;flex-grow: 1;}#sk-container-id-2 div.sk-label:hover label.sk-toggleable__label {background-color: #d4ebff;}#sk-container-id-2 div.sk-serial::before {content: \"\";position: absolute;border-left: 1px solid gray;box-sizing: border-box;top: 0;bottom: 0;left: 50%;z-index: 0;}#sk-container-id-2 div.sk-serial {display: flex;flex-direction: column;align-items: center;background-color: white;padding-right: 0.2em;padding-left: 0.2em;position: relative;}#sk-container-id-2 div.sk-item {position: relative;z-index: 1;}#sk-container-id-2 div.sk-parallel {display: flex;align-items: stretch;justify-content: center;background-color: white;position: relative;}#sk-container-id-2 div.sk-item::before, #sk-container-id-2 div.sk-parallel-item::before {content: \"\";position: absolute;border-left: 1px solid gray;box-sizing: border-box;top: 0;bottom: 0;left: 50%;z-index: -1;}#sk-container-id-2 div.sk-parallel-item {display: flex;flex-direction: column;z-index: 1;position: relative;background-color: white;}#sk-container-id-2 div.sk-parallel-item:first-child::after {align-self: flex-end;width: 50%;}#sk-container-id-2 div.sk-parallel-item:last-child::after {align-self: flex-start;width: 50%;}#sk-container-id-2 div.sk-parallel-item:only-child::after {width: 0;}#sk-container-id-2 div.sk-dashed-wrapped {border: 1px dashed gray;margin: 0 0.4em 0.5em 0.4em;box-sizing: border-box;padding-bottom: 0.4em;background-color: white;}#sk-container-id-2 div.sk-label label {font-family: monospace;font-weight: bold;display: inline-block;line-height: 1.2em;}#sk-container-id-2 div.sk-label-container {text-align: center;}#sk-container-id-2 div.sk-container {/* jupyter's `normalize.less` sets `[hidden] { display: none; }` but bootstrap.min.css set `[hidden] { display: none !important; }` so we also need the `!important` here to be able to override the default hidden behavior on the sphinx rendered scikit-learn.org. See: https://github.com/scikit-learn/scikit-learn/issues/21755 */display: inline-block !important;position: relative;}#sk-container-id-2 div.sk-text-repr-fallback {display: none;}</style><div id=\"sk-container-id-2\" class=\"sk-top-container\"><div class=\"sk-text-repr-fallback\"><pre>MultinomialNB()</pre><b>In a Jupyter environment, please rerun this cell to show the HTML representation or trust the notebook. <br />On GitHub, the HTML representation is unable to render, please try loading this page with nbviewer.org.</b></div><div class=\"sk-container\" hidden><div class=\"sk-item\"><div class=\"sk-estimator sk-toggleable\"><input class=\"sk-toggleable__control sk-hidden--visually\" id=\"sk-estimator-id-2\" type=\"checkbox\" checked><label for=\"sk-estimator-id-2\" class=\"sk-toggleable__label sk-toggleable__label-arrow\">MultinomialNB</label><div class=\"sk-toggleable__content\"><pre>MultinomialNB()</pre></div></div></div></div></div>"
                        ],
                        "text/plain": [
                            "MultinomialNB()"
                        ]
                    },
                    "execution_count": 33,
                    "metadata": {},
                    "output_type": "execute_result"
                }
            ],
            "source": [
                "#Create the Model\n",
                "\n",
                "#The MultinomialNB model should be used as the caracteristics are discrete counts (Categorical). Because each sentence represents a different Category. \n",
                "\n",
                "model_multiNB = MultinomialNB()\n",
                "\n",
                "model_multiNB.fit(X_train, y_train)\n"
            ]
        },
        {
            "cell_type": "code",
            "execution_count": 34,
            "metadata": {},
            "outputs": [
                {
                    "data": {
                        "text/plain": [
                            "array([0, 0, 1, 0, 0, 0, 0, 0, 0, 0, 1, 0, 0, 0, 0, 0, 0, 0, 1, 0, 0, 0,\n",
                            "       0, 1, 0, 0, 1, 0, 0, 0, 0, 0, 0, 0, 0, 1, 0, 1, 0, 0, 0, 1, 1, 0,\n",
                            "       0, 0, 1, 0, 0, 0, 0, 0, 0, 1, 1, 1, 0, 0, 0, 1, 0, 0, 1, 0, 0, 0,\n",
                            "       0, 1, 0, 1, 0, 0, 1, 0, 0, 0, 0, 1, 0, 0, 1, 1, 0, 0, 0, 0, 0, 0,\n",
                            "       1, 0, 0, 1, 1, 1, 1, 0, 1, 0, 0, 0, 0, 1, 0, 0, 1, 0, 0, 0, 1, 0,\n",
                            "       0, 0, 1, 0, 0, 0, 0, 0, 1, 1, 0, 0, 0, 0, 0, 0, 1, 0, 0, 0, 0, 0,\n",
                            "       1, 0, 1, 0, 0, 0, 0, 0, 0, 0, 0, 0, 0, 1, 0, 0, 0, 0, 0, 0, 0, 0,\n",
                            "       1, 0, 1, 0, 0, 0, 1, 0, 0, 0, 1, 1, 0, 0, 0, 0, 0, 0, 0, 0, 0, 1,\n",
                            "       0, 1, 1, 0, 0, 0, 1, 1, 0, 0, 0, 0, 0, 0, 0, 1, 0, 0, 0, 0, 0, 0,\n",
                            "       0, 0, 0, 0, 0, 1, 0, 1, 1, 0, 0, 0, 0, 0, 0, 1, 0, 1, 0, 1, 0, 0,\n",
                            "       0, 1, 0])"
                        ]
                    },
                    "execution_count": 34,
                    "metadata": {},
                    "output_type": "execute_result"
                }
            ],
            "source": [
                "y_hat_multiNB = model_multiNB.predict(X_test)\n",
                "y_hat_multiNB"
            ]
        },
        {
            "cell_type": "code",
            "execution_count": 36,
            "metadata": {},
            "outputs": [
                {
                    "name": "stdout",
                    "output_type": "stream",
                    "text": [
                        "Accuracy for MultinomialNB: 0.83\n"
                    ]
                }
            ],
            "source": [
                "print(f'Accuracy for MultinomialNB: {accuracy_score(y_test,y_hat_multiNB):.2f}')"
            ]
        },
        {
            "cell_type": "code",
            "execution_count": 38,
            "metadata": {},
            "outputs": [
                {
                    "name": "stdout",
                    "output_type": "stream",
                    "text": [
                        "Accuracy for GaussianNB: 0.78\n"
                    ]
                }
            ],
            "source": [
                "#Testing with the Other Models\n",
                "\n",
                "model_gaussNB = GaussianNB()\n",
                "\n",
                "model_gaussNB.fit(X_train, y_train)\n",
                "\n",
                "y_hat_gaussNB = model_gaussNB.predict(X_test)\n",
                "\n",
                "print(f'Accuracy for GaussianNB: {accuracy_score(y_test,y_hat_gaussNB):.2f}')"
            ]
        },
        {
            "cell_type": "code",
            "execution_count": 39,
            "metadata": {},
            "outputs": [
                {
                    "name": "stdout",
                    "output_type": "stream",
                    "text": [
                        "Accuracy for BernoulliNB: 0.74\n"
                    ]
                }
            ],
            "source": [
                "model_berNB = BernoulliNB()\n",
                "\n",
                "model_berNB.fit(X_train, y_train)\n",
                "\n",
                "y_hat_berNB = model_berNB.predict(X_test)\n",
                "\n",
                "print(f'Accuracy for BernoulliNB: {accuracy_score(y_test,y_hat_berNB):.2f}')"
            ]
        },
        {
            "cell_type": "code",
            "execution_count": 41,
            "metadata": {},
            "outputs": [
                {
                    "data": {
                        "text/html": [
                            "<style type=\"text/css\">\n",
                            "#T_a617a_row0_col1 {\n",
                            "  background-color: #ff0000;\n",
                            "  color: #f1f1f1;\n",
                            "}\n",
                            "#T_a617a_row1_col1 {\n",
                            "  background-color: #f79897;\n",
                            "  color: #000000;\n",
                            "}\n",
                            "#T_a617a_row2_col1 {\n",
                            "  background-color: #f3f0f0;\n",
                            "  color: #000000;\n",
                            "}\n",
                            "</style>\n",
                            "<table id=\"T_a617a\">\n",
                            "  <thead>\n",
                            "    <tr>\n",
                            "      <th class=\"blank level0\" >&nbsp;</th>\n",
                            "      <th id=\"T_a617a_level0_col0\" class=\"col_heading level0 col0\" >model_name</th>\n",
                            "      <th id=\"T_a617a_level0_col1\" class=\"col_heading level0 col1\" >Accuracy</th>\n",
                            "    </tr>\n",
                            "  </thead>\n",
                            "  <tbody>\n",
                            "    <tr>\n",
                            "      <th id=\"T_a617a_level0_row0\" class=\"row_heading level0 row0\" >0</th>\n",
                            "      <td id=\"T_a617a_row0_col0\" class=\"data row0 col0\" >MultinomialNB</td>\n",
                            "      <td id=\"T_a617a_row0_col1\" class=\"data row0 col1\" >0.829596</td>\n",
                            "    </tr>\n",
                            "    <tr>\n",
                            "      <th id=\"T_a617a_level0_row1\" class=\"row_heading level0 row1\" >1</th>\n",
                            "      <td id=\"T_a617a_row1_col0\" class=\"data row1 col0\" >GaussianNB</td>\n",
                            "      <td id=\"T_a617a_row1_col1\" class=\"data row1 col1\" >0.775785</td>\n",
                            "    </tr>\n",
                            "    <tr>\n",
                            "      <th id=\"T_a617a_level0_row2\" class=\"row_heading level0 row2\" >2</th>\n",
                            "      <td id=\"T_a617a_row2_col0\" class=\"data row2 col0\" >BernoulliNB</td>\n",
                            "      <td id=\"T_a617a_row2_col1\" class=\"data row2 col1\" >0.744395</td>\n",
                            "    </tr>\n",
                            "  </tbody>\n",
                            "</table>\n"
                        ],
                        "text/plain": [
                            "<pandas.io.formats.style.Styler at 0x7f0a475df880>"
                        ]
                    },
                    "execution_count": 41,
                    "metadata": {},
                    "output_type": "execute_result"
                }
            ],
            "source": [
                "#Compare the 3 models\n",
                "\n",
                "cm = sns.light_palette('red', as_cmap=True)\n",
                "\n",
                "model_compare = pd.DataFrame({'model_name': ['MultinomialNB', 'GaussianNB', 'BernoulliNB'], 'Accuracy': [accuracy_score(y_test,y_hat_multiNB), accuracy_score(y_test,y_hat_gaussNB), accuracy_score(y_test,y_hat_berNB)]})\n",
                "\n",
                "model_compare.style.background_gradient(cmap=cm)"
            ]
        },
        {
            "cell_type": "code",
            "execution_count": null,
            "metadata": {},
            "outputs": [],
            "source": [
                "#The Model was selected correctly as it receives the best results for acuracy."
            ]
        },
        {
            "cell_type": "code",
            "execution_count": 42,
            "metadata": {},
            "outputs": [
                {
                    "data": {
                        "text/plain": [
                            "dict_keys(['alpha', 'class_prior', 'fit_prior', 'force_alpha'])"
                        ]
                    },
                    "execution_count": 42,
                    "metadata": {},
                    "output_type": "execute_result"
                }
            ],
            "source": [
                "MultinomialNB().get_params().keys()"
            ]
        },
        {
            "cell_type": "code",
            "execution_count": 43,
            "metadata": {},
            "outputs": [],
            "source": [
                "param_grid = {\n",
                "    'alpha': [0.00001, 0.0001, 0.001, 0.1, 1, 10, 100,1000],\n",
                "    'fit_prior': [True, False]      \n",
                "}"
            ]
        },
        {
            "cell_type": "code",
            "execution_count": null,
            "metadata": {},
            "outputs": [],
            "source": [
                "grid = GridSearchCV(model_multiNB, param_grid, scoring = \"accuracy\", cv = 10)\n",
                "grid"
            ]
        },
        {
            "cell_type": "code",
            "execution_count": null,
            "metadata": {},
            "outputs": [],
            "source": []
        },
        {
            "cell_type": "code",
            "execution_count": null,
            "metadata": {},
            "outputs": [],
            "source": [
                "from pickle import dump\n",
                "\n",
                "dump(model, open(\"naive_bayes.sav\", \"wb\"))"
            ]
        }
    ],
    "metadata": {
        "kernelspec": {
            "display_name": "Python 3.8.13 64-bit ('3.8.13')",
            "language": "python",
            "name": "python3"
        },
        "language_info": {
            "codemirror_mode": {
                "name": "ipython",
                "version": 3
            },
            "file_extension": ".py",
            "mimetype": "text/x-python",
            "name": "python",
            "nbconvert_exporter": "python",
            "pygments_lexer": "ipython3",
            "version": "3.8.10"
        },
        "orig_nbformat": 4,
        "vscode": {
            "interpreter": {
                "hash": "110cc1dee26208153f2972f08a2ad52b6a56238dc66d48e87fb757ef2996db56"
            }
        }
    },
    "nbformat": 4,
    "nbformat_minor": 2
}
